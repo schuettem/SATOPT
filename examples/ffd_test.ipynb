{
 "cells": [
  {
   "cell_type": "code",
   "execution_count": null,
   "id": "0a823935",
   "metadata": {},
   "outputs": [],
   "source": [
    "from drag import compute_drag, compute_aoa_and_area\n",
    "from constrains import volume_penalty, inside_out_penalty, get_flip_constrain_disp\n",
    "import trimesh\n",
    "from pygem import FFD\n",
    "import numpy as np\n",
    "import csv\n",
    "\n",
    "cube_side = 1 * 3\n",
    "mesh = trimesh.creation.icosphere(subdivisions=3, radius=1.0)\n",
    "ffd = FFD([2, 2, 2])\n",
    "ffd.box_length = [cube_side, cube_side, cube_side]\n",
    "ffd.box_origin = [-cube_side / 2, -cube_side / 2, -cube_side / 2]"
   ]
  },
  {
   "cell_type": "code",
   "execution_count": null,
   "id": "eddf58f9",
   "metadata": {},
   "outputs": [],
   "source": [
    "ffd.control_points()"
   ]
  },
  {
   "cell_type": "code",
   "execution_count": null,
   "id": "9763d875",
   "metadata": {},
   "outputs": [],
   "source": [
    "new_control_points = ffd.control_points()\n",
    "new_control_points[4, 2] = 3\n",
    "\n",
    "disp0 = (new_control_points - ffd.control_points()) / ffd.box_length\n",
    "\n",
    "print(ffd.control_points())\n",
    "\n",
    "ffd.array_mu_x = disp0[:, 0].reshape(ffd.array_mu_x.shape)\n",
    "ffd.array_mu_y = disp0[:, 1].reshape(ffd.array_mu_y.shape)\n",
    "ffd.array_mu_z = disp0[:, 2].reshape(ffd.array_mu_z.shape)\n",
    "\n",
    "ffd.control_points()"
   ]
  },
  {
   "cell_type": "code",
   "execution_count": null,
   "id": "e39b4654",
   "metadata": {},
   "outputs": [],
   "source": [
    "old_disp = []\n",
    "old_disp.append(ffd.array_mu_x.flatten())\n",
    "old_disp.append(ffd.array_mu_y.flatten())\n",
    "old_disp.append(ffd.array_mu_z.flatten())\n",
    "old_disp = list(np.array(old_disp).T)\n",
    "\n",
    "new_control_points[2, 1] = 3\n",
    "\n",
    "print(ffd.control_points())\n",
    "print(new_control_points)\n",
    "\n",
    "disp_new = (new_control_points - ffd.control_points()) / ffd.box_length\n",
    "\n",
    "total_disp = old_disp+disp_new\n",
    "\n",
    "ffd.array_mu_x = total_disp[:, 0].reshape(ffd.array_mu_x.shape)\n",
    "ffd.array_mu_y = total_disp[:, 1].reshape(ffd.array_mu_y.shape)\n",
    "ffd.array_mu_z = total_disp[:, 2].reshape(ffd.array_mu_z.shape)\n",
    "\n",
    "ffd.control_points()"
   ]
  },
  {
   "cell_type": "code",
   "execution_count": null,
   "id": "35b4877d",
   "metadata": {},
   "outputs": [],
   "source": [
    "ffd.array_mu_y"
   ]
  }
 ],
 "metadata": {
  "language_info": {
   "name": "python"
  }
 },
 "nbformat": 4,
 "nbformat_minor": 5
}
