{
 "cells": [
  {
   "cell_type": "code",
   "execution_count": 1,
   "id": "3965decd",
   "metadata": {},
   "outputs": [],
   "source": [
    "from optimize import run"
   ]
  },
  {
   "cell_type": "code",
   "execution_count": 2,
   "id": "6fb08dba",
   "metadata": {},
   "outputs": [
    {
     "name": "stdout",
     "output_type": "stream",
     "text": [
      "Optimization terminated successfully    (Exit mode 0)\n",
      "            Current function value: 797.3936616486205\n",
      "            Iterations: 2\n",
      "            Function evaluations: 60\n",
      "            Gradient evaluations: 2\n"
     ]
    },
    {
     "data": {
      "application/vnd.plotly.v1+json": {
       "config": {
        "plotlyServerURL": "https://plot.ly"
       },
       "data": [
        {
         "marker": {
          "color": "blue",
          "size": 3
         },
         "mode": "markers",
         "name": "mesh",
         "type": "scatter3d",
         "x": {
          "bdata": "X/3v7CyhY8Bb4X7aeCljwMk0ASF7vl/AKAoBnZLnXMA+ZGDzIthfwC45PwZaoWHAZQfu8u8EYMDeY7AzUYtjwJC15hV2EGHAV52wjvzuX8CcaSD0dx1iwLj2G1VA+GHA/of0YnfEY8A+7obgvZRdwAYrYsvh2F/ANu+kilWtXcAqhXKGMcNiwIgm0r3CaGLAr0QNzhywYMCVqUophNtewCGQfYiOvl3AG1XNUkYcZMDq8Pqx+eJjwMNZP4W53mHA5SkJimhvYsDlEvjdo5pewB7OTILtd2DA0uLWxjWUYsCjW/lf9pZhwHeqixH2xF3AaVOMHqn6XsDmaYI2sshgwMQ10t2pYWDAGEfRFFVKY8ALET1lo9FgwPNPPyIDAGHALa75Pin7YsDh0lIaEcdiwJ9NwtYjImHAIiLXQvgUYcAYlRmaCtlhwErJZXUsLWLA+QlKdC/HY8DvT+PPQJFjwGKZWe9wil7AOq8r1QcAXcBKQ8nLo8lfwOSrKiGc2l/AMHHbdj+OXsAAtdrSqQldwHhDNI7TrF7A802zaNt8XcCuD1OCe5xewKYvqkl6QWPAuUl8YZ81YsB2fEj6dE5jwGG/M5FA1WLA/MKFJ3D7YcDjjpmFkipjwJW9StuAoWLA4yLvwSFMYMBKHFFwnB9hwChTcryNGF/A1T0RLYgrX8A5E8F1eAFewE3eo/wAI13AGxKjO5y4XsDyxZp00z9dwP6TsjuSCV7AIs55NNr5Y8DfGD2ImPhjwHyPnoGpHGTAqrywEVajY8BO378v59tjwIvIb+Z0/2PAJtUt7CQpZMD2yOqlieZgwE8ga85ky2LAJI00BXDmYsDWXBPJXM1hwAMoKrXYSmPAnSC/piZxXcAFHfsMYB5gwOOoYBF59V3AF+JTp6ExYMCbZZaIysZgwPM3m540C1/AmBp3UKcrYcBynBIdMqZfwO/Rq67vJ2PA/hRUjSHcYcBWUNcH0WVjwJOS+29TTmLAtaBP7J2fYsA0KRKKRoxhwBTutovPbGLAc9S/5Uu9YMDiBmeq9BBiwAuD063UD2LAspPOLoEoXcDK/cE2qbdewGQg6/jlVV3Ap53TXj/wXcBzYMwqeTxfwJAoF+kjNF/AL49oTIkpXsCn3OVOxA9gwO0qSoGrI17ApxoyLAY3YcDVrQ+3fFtgwKrJKLOalmHAWRH8bFmiYMAd28TKqSBhwDev9Z77EGDAIGuB1JK3YMCiisVEPh1gwImiyCwFa2HAQi/k2iGUX8AdX1/W1wFhwDqE1NZo+V7A1N6f3R2SY8A7/arZicpiwEpUTqO5yWPAK/PUzcFNYMAppSCL/21hwHUjppjID2DA4y4oQc92YMAgu/3+ZZNhwPNZccNAGmDASJGE8KZjYcAhOtnptM1gwNF70bJnV2PAQdlAIj+LYsB3LQ4Wg7hjwOBniDalf2LAOKixsf5AY8AQQoyc+gNiwM7bWgRCNWPAEmpxM7teYsCIRXX+ydFiwJmzBozWHGPA6xlgISSGYMAvKoNdN59hwK8Xzi2QjmDAsPgrveH4YMBVjqijXYVgwFJUQnwekGHA0ka760KPYMDyGhqJn+BgwKi/Onk5L2HA9yfjnfC4YcBzCwHuGvRhwPJBSteHQmLA6umuIFVLYcDI+vOxNVhiwBi8+eBvfGHA3VodGvUpYsDzwQ5z5h5iwHoTef0ZumLARlpLq8+QYcCwc3KMipRiwMHsprtCqGHA",
          "dtype": "f8"
         },
         "y": {
          "bdata": "bcB0aqdzY8CHw1u4KJViwL/XvDVr32TAB9h5Hez8Y8Dq1EFBRRBmwEkHew6WKWXAlGDBluNBYsCqbYuPaGlhwCh4RrS+12HA1cYeKpcvZMBXWaU8BUVjwFSM/VrMmGXAijDEIqbkYsBSaT+Y7Y1kwDCJHCgFvGXADc6RZZdNZcBUoVi4XHJkwINHXipJ2mPAFECxWtfxZcBD+6ZOsJNjwNoXR1L492LABYrGXf4qYsAIPvZ8Zb1hwJcNVGC8gGHAa6M5OBT/YcA+BT5Ng7liwF04pqUNtmHAox7rCj1NYcDP2sp0NEdjwGvXYEFuMmTAfvNBL75pZcDSLLZyGs1kwP4HvcvH42LAD1AVYu1BY8DdjHt+3StkwNJtlNoIpGLAe3WH4PMNYsBNGnHxqbNkwNK7ad6fdmXAgPilCSkoZsBLicfUBbZlwOSRRu/LjmTAN00BvX8mY8Dkqx1c/LJiwNqtHG/EwGTAvYzL7eZKZMATBzMz81plwLOLw4BA+2XAS5UBOlQ6ZcBMN7U7lrFkwMyVFDlpxGXAvxxKppb7ZMBuo42ZoJxlwH/1fYnq92PAIalLhrPZZMCmeI0pVahjwKEkAQjAL2PAPzY2N2SIZMAPhkY2t1xjwLSvjuvCK2TAnMdOSWUYZsBD6o63AaBlwOpv1zh0QWTAmSypVHbjYsDjjbjbxhJkwFJUAsLpdGPAyO6oMCGQYsBw0SmMY8VjwD/1rLm2P2PAGlcKjGPDYsACnaVD6rVhwI3FMy52emLAX2nDZFkcYsBbCcCrC39hwEcK2RW3PGLAQNw+Nw3dYcC2F7NeZc5hwK2QeRZbXmHAbVKUYic9YsAuJ5XZO9xhwJmf/WVlyWHA2KujSgRWY8Ap8A7+4zZiwBMLRhBpyWLAsC5YGlHnYcBsxmEZ/bFhwIadTY+nQGLAFjAyWIeBYcCMagu+8h9iwDTIuE5RRmHAxsl4xK99YcAJMGvFbGxhwMimcEs2RmHA7u3i+IuOYcBYKbJKYmRhwJo9BvfH5GLAoNPnQnK4Y8Ch7VXaUotjwObDPnrglGLAx190A7EcZMBHacYu1jhkwDDMWlEJ0WTAKpIiZHVyY8CgDJktTdRlwKifR6Gb2GTAi10b8yd1ZcAn17pEs8VlwNLwAytV4GTASl2cHEMFZcBftI3zTIVkwE1GmFGtV2TAgpCFqDd3ZcAwykzSlgpkwCs+KouyLWXAmovFWPFPYsDQTin/3odjwJi8blMUXmLA4nyby/HEYsDtoqFZtQ9jwOTpXVYwhmPAB+iVCgFWY8DJs2f6OjxjwCPu0SOEpWLAm0MX7LCOZMACA+yaC7tjwKgxOkeN5WPA361qH+VoYsDq3Sj4Oe5iwI/e1wztFmPAMfn06Tv6YcCdB0DCKmdjwLrXGhq8pGHAg3WVDHOdYsCa3Ke1DgRiwGzvib9GsGHAozOCnb6WYsDlpJrb6UZiwPvnp20VGGTA3NuGvzA3ZcAPzLJckqFkwEsGzCMe/mPAKeUG4OI4ZcDFyOJNb5dlwHpSXIKArmXAXtfZc7PfZMAwwTM4sDFmwF9TwxLz9GXA/3c9+lwMZsB42mZq3y1mwGBg8GJ452XAI9ETx8qDZcB8I+BhGbxlwHv855UMKWXAkI5LR0TtZcCdEh91gktlwASeksQoDGbAJjrHxubrY8BNYFFXcCFlwHBoX5Cm7GPAs+L9+wJkZMAsf54bIqtkwOQECXWXFWXA",
          "dtype": "f8"
         },
         "z": {
          "bdata": "VVFeuc3/ZMDwk5dzP2lkwApQhvDwFmPAeQ9mN5R/Y8Dr74buR5RhwFkxYutca2LAs00A+TqMZcCZOB6CsnNmwIG5EDiT6GTAN82a9A/yYsDBmetKKpBlwAtsWd3ElGLAuUHoUT3UZMCq4IjYiytjwP8qIFptDWLA9CK4kjVIYsCv+pDFz3hjwIg7mDAsfWPAMaZO3OqlYcAaxQDW8GBkwFZGsYfTmWTAnBEEyWEzZsCMvSagX4VlwHNRPE7eWWbAlncQs5yfZMCczHYz92dkwIHm+uIuiWXAyWe4asy4ZcAPYREZx51jwBSNOEGOE2PABGXDEJ0JYsDC7SpMTohiwPn2EMAO6mPAdjs+XmSrZcBJUDY2rzRkwLtJm2HNvGXACcW3PdKcZsDDT+mje79jwMBZnzCspmLAbwulbn+pYcD+b27xHihiwGorYGq6FWTAj/srtp/3ZMBpMHnPsKBkwG9UhXsYFGPAWsS3UylTY8DPSRqiHINiwBoGCWNju2HA2ttTem+IYsCFAwO0g9liwNZYmlxy2WHA0ZYRqYurYsBp8MQK4RJiwOIuipfVNWTAl1UXuUrdYsDpDZcBgzVkwGWvRBRR+2PAfKmmXPzyYsAhSWXXHx1kwNpIL8fzc2PANZHixzWFYcB0flz5cvRhwMJ42mh1tmPA0KjOQPkEZcCqoyJEdL5jwKtva2i/D2TABjhPqHkYZcBSVPJkUuVjwKmoJx2kg2TA/BmdJxC2ZcAclMVe8m9mwIlIKxNckWXAO1b8rhj1ZMBzpLKMogxmwBmjKfFjQ2XAjqrUZRn1ZcArGwVyhQZmwMnozSFkf2bAMMEEzgCEZMAsXXdrusJkwKZpQehhC2XAYnrIzlz+Y8DWXur9lrRkwOnkht/ikWTAY5pCSYSiZcDbHrUY70VlwLAbIPmyK2XAftbJi437ZcAiQKi0NwNlwLK7EswiH2bAsCmZq2dQZcBmrah4r6hlwBiv4xLcKGbAxSzohzEsZcAc20hzQ7NlwJ751QWs/GPA0rwPespFY8DdE+yVl4tjwES6pFQoHWTAYp+wOvBDY8BWquDAHfdiwE/OGHtfo2LA5ZIG2Hq9Y8A/E5680rlhwFayALomd2LAf85nezYPYsDFUIs08b9hwNB7ShVlfWLAGMavgGVtYsBaLryMw7RiwKt2+GnT9mLAcK5WAkIEYsAA5dGFqBZjwExJvDeQNWLA/JW1dg1pZMDXPKCNuWxjwDyTAZLEQ2TA8GZxDwMpZMAdW4oRy7pjwGD/N6XuhGPAB0xUQmJpZcA/18vS4LdlwLQdQjwbHmbAPH41j5WWY8BIjIjwIuVkwKvje6FWRGTAJb6C1MCsZcD//Kx937ZlwJ1rTqSYD2XA1luiqG41ZsBlg3kvBQdlwDttPgRjrmbA5pTDPeo4ZsC7RwLor5RmwFDrYw/Hl2bAKYabMXhQZsAwq9UHqkxmwC37L0vSaWTAPqqJRuwbY8CoffnfB5NjwOjNvRjnwWTA/Jm5r2DSYsCbzKf7+pFiwCeLUhNvPWLAuCl5DwhjY8Dsqll48IVhwAgBj+MuA2LADOf7ec7BYcAve30sp4RhwFR3+lisDmLAF2pTBjE1YsASiuv/6kliwDrRf0yhvmLAZLkO8KrEYcA87isYhNViwPvXLKIUymHAsNTokrvfZMDveKe9D0pjwG/Vi/sH8GTAxHf7r/IpZMBQrL34QPBjwIr1TK1nSGPA",
          "dtype": "f8"
         }
        },
        {
         "marker": {
          "color": "red",
          "size": 8
         },
         "mode": "markers",
         "name": "control points",
         "type": "scatter3d",
         "x": {
          "bdata": "J1UsCvckT0Bt2lI4bxZaQNPgqG5pAmBA68nB5ZQpV0CFFM/86tJQQCFHGyc4iUtACbfjj708YEA2bHpdBGpYQA==",
          "dtype": "f8"
         },
         "y": {
          "bdata": "4nwVlbUQWkC2uOk5Gf9fQJOb4eRYClVAmvjHQbNiYECX1ItRk4lTQPThBMg0v19ACYtEyQLKVEDpLRicZnRaQA==",
          "dtype": "f8"
         },
         "z": {
          "bdata": "1qkLjtkVWkCA4YwVB+5UQDpw6KZPlWNA8lNgsSYsVUCisDDox99fQAxMw9ZoJVVAhAN8gNHbWUC9lzT4QBxbQA==",
          "dtype": "f8"
         }
        }
       ],
       "layout": {
        "height": 700,
        "scene": {
         "xaxis": {
          "title": {
           "text": "X"
          }
         },
         "yaxis": {
          "title": {
           "text": "Y"
          }
         },
         "zaxis": {
          "title": {
           "text": "Z"
          }
         }
        },
        "template": {
         "data": {
          "bar": [
           {
            "error_x": {
             "color": "#2a3f5f"
            },
            "error_y": {
             "color": "#2a3f5f"
            },
            "marker": {
             "line": {
              "color": "#E5ECF6",
              "width": 0.5
             },
             "pattern": {
              "fillmode": "overlay",
              "size": 10,
              "solidity": 0.2
             }
            },
            "type": "bar"
           }
          ],
          "barpolar": [
           {
            "marker": {
             "line": {
              "color": "#E5ECF6",
              "width": 0.5
             },
             "pattern": {
              "fillmode": "overlay",
              "size": 10,
              "solidity": 0.2
             }
            },
            "type": "barpolar"
           }
          ],
          "carpet": [
           {
            "aaxis": {
             "endlinecolor": "#2a3f5f",
             "gridcolor": "white",
             "linecolor": "white",
             "minorgridcolor": "white",
             "startlinecolor": "#2a3f5f"
            },
            "baxis": {
             "endlinecolor": "#2a3f5f",
             "gridcolor": "white",
             "linecolor": "white",
             "minorgridcolor": "white",
             "startlinecolor": "#2a3f5f"
            },
            "type": "carpet"
           }
          ],
          "choropleth": [
           {
            "colorbar": {
             "outlinewidth": 0,
             "ticks": ""
            },
            "type": "choropleth"
           }
          ],
          "contour": [
           {
            "colorbar": {
             "outlinewidth": 0,
             "ticks": ""
            },
            "colorscale": [
             [
              0,
              "#0d0887"
             ],
             [
              0.1111111111111111,
              "#46039f"
             ],
             [
              0.2222222222222222,
              "#7201a8"
             ],
             [
              0.3333333333333333,
              "#9c179e"
             ],
             [
              0.4444444444444444,
              "#bd3786"
             ],
             [
              0.5555555555555556,
              "#d8576b"
             ],
             [
              0.6666666666666666,
              "#ed7953"
             ],
             [
              0.7777777777777778,
              "#fb9f3a"
             ],
             [
              0.8888888888888888,
              "#fdca26"
             ],
             [
              1,
              "#f0f921"
             ]
            ],
            "type": "contour"
           }
          ],
          "contourcarpet": [
           {
            "colorbar": {
             "outlinewidth": 0,
             "ticks": ""
            },
            "type": "contourcarpet"
           }
          ],
          "heatmap": [
           {
            "colorbar": {
             "outlinewidth": 0,
             "ticks": ""
            },
            "colorscale": [
             [
              0,
              "#0d0887"
             ],
             [
              0.1111111111111111,
              "#46039f"
             ],
             [
              0.2222222222222222,
              "#7201a8"
             ],
             [
              0.3333333333333333,
              "#9c179e"
             ],
             [
              0.4444444444444444,
              "#bd3786"
             ],
             [
              0.5555555555555556,
              "#d8576b"
             ],
             [
              0.6666666666666666,
              "#ed7953"
             ],
             [
              0.7777777777777778,
              "#fb9f3a"
             ],
             [
              0.8888888888888888,
              "#fdca26"
             ],
             [
              1,
              "#f0f921"
             ]
            ],
            "type": "heatmap"
           }
          ],
          "histogram": [
           {
            "marker": {
             "pattern": {
              "fillmode": "overlay",
              "size": 10,
              "solidity": 0.2
             }
            },
            "type": "histogram"
           }
          ],
          "histogram2d": [
           {
            "colorbar": {
             "outlinewidth": 0,
             "ticks": ""
            },
            "colorscale": [
             [
              0,
              "#0d0887"
             ],
             [
              0.1111111111111111,
              "#46039f"
             ],
             [
              0.2222222222222222,
              "#7201a8"
             ],
             [
              0.3333333333333333,
              "#9c179e"
             ],
             [
              0.4444444444444444,
              "#bd3786"
             ],
             [
              0.5555555555555556,
              "#d8576b"
             ],
             [
              0.6666666666666666,
              "#ed7953"
             ],
             [
              0.7777777777777778,
              "#fb9f3a"
             ],
             [
              0.8888888888888888,
              "#fdca26"
             ],
             [
              1,
              "#f0f921"
             ]
            ],
            "type": "histogram2d"
           }
          ],
          "histogram2dcontour": [
           {
            "colorbar": {
             "outlinewidth": 0,
             "ticks": ""
            },
            "colorscale": [
             [
              0,
              "#0d0887"
             ],
             [
              0.1111111111111111,
              "#46039f"
             ],
             [
              0.2222222222222222,
              "#7201a8"
             ],
             [
              0.3333333333333333,
              "#9c179e"
             ],
             [
              0.4444444444444444,
              "#bd3786"
             ],
             [
              0.5555555555555556,
              "#d8576b"
             ],
             [
              0.6666666666666666,
              "#ed7953"
             ],
             [
              0.7777777777777778,
              "#fb9f3a"
             ],
             [
              0.8888888888888888,
              "#fdca26"
             ],
             [
              1,
              "#f0f921"
             ]
            ],
            "type": "histogram2dcontour"
           }
          ],
          "mesh3d": [
           {
            "colorbar": {
             "outlinewidth": 0,
             "ticks": ""
            },
            "type": "mesh3d"
           }
          ],
          "parcoords": [
           {
            "line": {
             "colorbar": {
              "outlinewidth": 0,
              "ticks": ""
             }
            },
            "type": "parcoords"
           }
          ],
          "pie": [
           {
            "automargin": true,
            "type": "pie"
           }
          ],
          "scatter": [
           {
            "fillpattern": {
             "fillmode": "overlay",
             "size": 10,
             "solidity": 0.2
            },
            "type": "scatter"
           }
          ],
          "scatter3d": [
           {
            "line": {
             "colorbar": {
              "outlinewidth": 0,
              "ticks": ""
             }
            },
            "marker": {
             "colorbar": {
              "outlinewidth": 0,
              "ticks": ""
             }
            },
            "type": "scatter3d"
           }
          ],
          "scattercarpet": [
           {
            "marker": {
             "colorbar": {
              "outlinewidth": 0,
              "ticks": ""
             }
            },
            "type": "scattercarpet"
           }
          ],
          "scattergeo": [
           {
            "marker": {
             "colorbar": {
              "outlinewidth": 0,
              "ticks": ""
             }
            },
            "type": "scattergeo"
           }
          ],
          "scattergl": [
           {
            "marker": {
             "colorbar": {
              "outlinewidth": 0,
              "ticks": ""
             }
            },
            "type": "scattergl"
           }
          ],
          "scattermap": [
           {
            "marker": {
             "colorbar": {
              "outlinewidth": 0,
              "ticks": ""
             }
            },
            "type": "scattermap"
           }
          ],
          "scattermapbox": [
           {
            "marker": {
             "colorbar": {
              "outlinewidth": 0,
              "ticks": ""
             }
            },
            "type": "scattermapbox"
           }
          ],
          "scatterpolar": [
           {
            "marker": {
             "colorbar": {
              "outlinewidth": 0,
              "ticks": ""
             }
            },
            "type": "scatterpolar"
           }
          ],
          "scatterpolargl": [
           {
            "marker": {
             "colorbar": {
              "outlinewidth": 0,
              "ticks": ""
             }
            },
            "type": "scatterpolargl"
           }
          ],
          "scatterternary": [
           {
            "marker": {
             "colorbar": {
              "outlinewidth": 0,
              "ticks": ""
             }
            },
            "type": "scatterternary"
           }
          ],
          "surface": [
           {
            "colorbar": {
             "outlinewidth": 0,
             "ticks": ""
            },
            "colorscale": [
             [
              0,
              "#0d0887"
             ],
             [
              0.1111111111111111,
              "#46039f"
             ],
             [
              0.2222222222222222,
              "#7201a8"
             ],
             [
              0.3333333333333333,
              "#9c179e"
             ],
             [
              0.4444444444444444,
              "#bd3786"
             ],
             [
              0.5555555555555556,
              "#d8576b"
             ],
             [
              0.6666666666666666,
              "#ed7953"
             ],
             [
              0.7777777777777778,
              "#fb9f3a"
             ],
             [
              0.8888888888888888,
              "#fdca26"
             ],
             [
              1,
              "#f0f921"
             ]
            ],
            "type": "surface"
           }
          ],
          "table": [
           {
            "cells": {
             "fill": {
              "color": "#EBF0F8"
             },
             "line": {
              "color": "white"
             }
            },
            "header": {
             "fill": {
              "color": "#C8D4E3"
             },
             "line": {
              "color": "white"
             }
            },
            "type": "table"
           }
          ]
         },
         "layout": {
          "annotationdefaults": {
           "arrowcolor": "#2a3f5f",
           "arrowhead": 0,
           "arrowwidth": 1
          },
          "autotypenumbers": "strict",
          "coloraxis": {
           "colorbar": {
            "outlinewidth": 0,
            "ticks": ""
           }
          },
          "colorscale": {
           "diverging": [
            [
             0,
             "#8e0152"
            ],
            [
             0.1,
             "#c51b7d"
            ],
            [
             0.2,
             "#de77ae"
            ],
            [
             0.3,
             "#f1b6da"
            ],
            [
             0.4,
             "#fde0ef"
            ],
            [
             0.5,
             "#f7f7f7"
            ],
            [
             0.6,
             "#e6f5d0"
            ],
            [
             0.7,
             "#b8e186"
            ],
            [
             0.8,
             "#7fbc41"
            ],
            [
             0.9,
             "#4d9221"
            ],
            [
             1,
             "#276419"
            ]
           ],
           "sequential": [
            [
             0,
             "#0d0887"
            ],
            [
             0.1111111111111111,
             "#46039f"
            ],
            [
             0.2222222222222222,
             "#7201a8"
            ],
            [
             0.3333333333333333,
             "#9c179e"
            ],
            [
             0.4444444444444444,
             "#bd3786"
            ],
            [
             0.5555555555555556,
             "#d8576b"
            ],
            [
             0.6666666666666666,
             "#ed7953"
            ],
            [
             0.7777777777777778,
             "#fb9f3a"
            ],
            [
             0.8888888888888888,
             "#fdca26"
            ],
            [
             1,
             "#f0f921"
            ]
           ],
           "sequentialminus": [
            [
             0,
             "#0d0887"
            ],
            [
             0.1111111111111111,
             "#46039f"
            ],
            [
             0.2222222222222222,
             "#7201a8"
            ],
            [
             0.3333333333333333,
             "#9c179e"
            ],
            [
             0.4444444444444444,
             "#bd3786"
            ],
            [
             0.5555555555555556,
             "#d8576b"
            ],
            [
             0.6666666666666666,
             "#ed7953"
            ],
            [
             0.7777777777777778,
             "#fb9f3a"
            ],
            [
             0.8888888888888888,
             "#fdca26"
            ],
            [
             1,
             "#f0f921"
            ]
           ]
          },
          "colorway": [
           "#636efa",
           "#EF553B",
           "#00cc96",
           "#ab63fa",
           "#FFA15A",
           "#19d3f3",
           "#FF6692",
           "#B6E880",
           "#FF97FF",
           "#FECB52"
          ],
          "font": {
           "color": "#2a3f5f"
          },
          "geo": {
           "bgcolor": "white",
           "lakecolor": "white",
           "landcolor": "#E5ECF6",
           "showlakes": true,
           "showland": true,
           "subunitcolor": "white"
          },
          "hoverlabel": {
           "align": "left"
          },
          "hovermode": "closest",
          "mapbox": {
           "style": "light"
          },
          "paper_bgcolor": "white",
          "plot_bgcolor": "#E5ECF6",
          "polar": {
           "angularaxis": {
            "gridcolor": "white",
            "linecolor": "white",
            "ticks": ""
           },
           "bgcolor": "#E5ECF6",
           "radialaxis": {
            "gridcolor": "white",
            "linecolor": "white",
            "ticks": ""
           }
          },
          "scene": {
           "xaxis": {
            "backgroundcolor": "#E5ECF6",
            "gridcolor": "white",
            "gridwidth": 2,
            "linecolor": "white",
            "showbackground": true,
            "ticks": "",
            "zerolinecolor": "white"
           },
           "yaxis": {
            "backgroundcolor": "#E5ECF6",
            "gridcolor": "white",
            "gridwidth": 2,
            "linecolor": "white",
            "showbackground": true,
            "ticks": "",
            "zerolinecolor": "white"
           },
           "zaxis": {
            "backgroundcolor": "#E5ECF6",
            "gridcolor": "white",
            "gridwidth": 2,
            "linecolor": "white",
            "showbackground": true,
            "ticks": "",
            "zerolinecolor": "white"
           }
          },
          "shapedefaults": {
           "line": {
            "color": "#2a3f5f"
           }
          },
          "ternary": {
           "aaxis": {
            "gridcolor": "white",
            "linecolor": "white",
            "ticks": ""
           },
           "baxis": {
            "gridcolor": "white",
            "linecolor": "white",
            "ticks": ""
           },
           "bgcolor": "#E5ECF6",
           "caxis": {
            "gridcolor": "white",
            "linecolor": "white",
            "ticks": ""
           }
          },
          "title": {
           "x": 0.05
          },
          "xaxis": {
           "automargin": true,
           "gridcolor": "white",
           "linecolor": "white",
           "ticks": "",
           "title": {
            "standoff": 15
           },
           "zerolinecolor": "white",
           "zerolinewidth": 2
          },
          "yaxis": {
           "automargin": true,
           "gridcolor": "white",
           "linecolor": "white",
           "ticks": "",
           "title": {
            "standoff": 15
           },
           "zerolinecolor": "white",
           "zerolinewidth": 2
          }
         }
        },
        "title": {
         "text": "Interactive 3D Scatter"
        },
        "width": 700
       }
      }
     },
     "metadata": {},
     "output_type": "display_data"
    },
    {
     "data": {
      "image/png": "[encoded data removed]",
      "text/plain": [
       "<Figure size 1200x500 with 2 Axes>"
      ]
     },
     "metadata": {},
     "output_type": "display_data"
    }
   ],
   "source": [
    "run(1)"
   ]
  },
  {
   "cell_type": "code",
   "execution_count": null,
   "id": "5fe748ca",
   "metadata": {},
   "outputs": [],
   "source": []
  }
 ],
 "metadata": {
  "kernelspec": {
   "display_name": "satopt",
   "language": "python",
   "name": "python3"
  },
  "language_info": {
   "codemirror_mode": {
    "name": "ipython",
    "version": 3
   },
   "file_extension": ".py",
   "mimetype": "text/x-python",
   "name": "python",
   "nbconvert_exporter": "python",
   "pygments_lexer": "ipython3",
   "version": "3.12.11"
  }
 },
 "nbformat": 4,
 "nbformat_minor": 5
}
